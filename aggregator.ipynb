{
 "cells": [
  {
   "cell_type": "code",
   "execution_count": 1,
   "metadata": {},
   "outputs": [],
   "source": [
    "import pandas as pd\n",
    "import numpy as np\n",
    "import pycountry\n",
    "import matplotlib.pyplot as plt\n",
    "\n",
    "from fuzzywuzzy import process"
   ]
  },
  {
   "cell_type": "code",
   "execution_count": 2,
   "metadata": {},
   "outputs": [],
   "source": [
    "manual_mapping = {\n",
    "    \"Palestinian Territories\": \"Palestine, State of\",\n",
    "    \"Palestinian Territories*\": \"Palestine, State of\",\n",
    "    \"Somaliland Region\": \"Somaliland Region\",\n",
    "    \"Somaliland region\": \"Somaliland Region\",\n",
    "    \"Congo (Brazzaville)\": \"Congo (Brazzaville)\",\n",
    "    \"Congo (Kinshasa)\": \"Congo (Kinshasa)\",\n",
    "    \"Hong Kong S.A.R. of China\": \"Hong Kong\",\n",
    "    \"Hong Kong S.A.R., China\" : \"Hong Kong\",\n",
    "    \"Northern Cyprus\": \"North Cyprus\",\n",
    "    \"North Cyprus\": \"North Cyprus\",\n",
    "}"
   ]
  },
  {
   "cell_type": "code",
   "execution_count": 3,
   "metadata": {},
   "outputs": [],
   "source": [
    "def standardize_country_name(country_name):\n",
    "    if country_name in manual_mapping:\n",
    "        return manual_mapping[country_name]\n",
    "    try:\n",
    "        country = pycountry.countries.lookup(country_name)\n",
    "        return country.name\n",
    "    except LookupError:\n",
    "        country_names = [country.name for country in pycountry.countries]\n",
    "        best_match, score = process.extractOne(country_name, country_names)\n",
    "        if score >= 80: \n",
    "            try:\n",
    "                country = pycountry.countries.lookup(best_match)\n",
    "                return country.name\n",
    "            except LookupError:\n",
    "                return country_name \n",
    "        else:\n",
    "            return country_name"
   ]
  },
  {
   "cell_type": "code",
   "execution_count": 12,
   "metadata": {},
   "outputs": [],
   "source": [
    "df2015 = pd.read_csv('2015.csv')\n",
    "df2016 = pd.read_csv('2016.csv')\n",
    "df2017 = pd.read_csv('2017.csv')\n",
    "df2018 = pd.read_csv('2018.csv')\n",
    "df2019 = pd.read_csv('2019.csv')\n",
    "df2020 = pd.read_csv('2020.csv')\n",
    "df2021 = pd.read_csv('2021.csv')\n",
    "df2022 = pd.read_csv('2022.csv')\n",
    "df2023 = pd.read_csv('2023.csv')\n",
    "df2024 = pd.read_csv('2024.csv')\n",
    "df_list = [df2015, df2016, df2017, df2018, df2019, \n",
    "           df2020, df2021, df2022, df2023, df2024]\n",
    "years = [2015, 2016, 2017, 2018, 2019, \n",
    "         2020, 2021, 2022, 2023, 2024]"
   ]
  },
  {
   "cell_type": "code",
   "execution_count": 13,
   "metadata": {},
   "outputs": [],
   "source": [
    "for i in range(len(df_list)):\n",
    "    dftemp = df_list[i]\n",
    "    dftemp['Country'] = dftemp['Country'].apply(standardize_country_name)\n",
    "    df_list[i] = dftemp"
   ]
  },
  {
   "cell_type": "code",
   "execution_count": 14,
   "metadata": {},
   "outputs": [],
   "source": [
    "country_master = set(df_list[0]['Country'])\n",
    "for i in range(1,len(df_list)):\n",
    "    temp = set(df_list[i]['Country'])\n",
    "    country_master = country_master.union(temp)\n",
    "country_master = sorted(list(country_master))"
   ]
  },
  {
   "cell_type": "code",
   "execution_count": 15,
   "metadata": {},
   "outputs": [
    {
     "data": {
      "text/html": [
       "<div>\n",
       "<style scoped>\n",
       "    .dataframe tbody tr th:only-of-type {\n",
       "        vertical-align: middle;\n",
       "    }\n",
       "\n",
       "    .dataframe tbody tr th {\n",
       "        vertical-align: top;\n",
       "    }\n",
       "\n",
       "    .dataframe thead th {\n",
       "        text-align: right;\n",
       "    }\n",
       "</style>\n",
       "<table border=\"1\" class=\"dataframe\">\n",
       "  <thead>\n",
       "    <tr style=\"text-align: right;\">\n",
       "      <th></th>\n",
       "      <th>Country</th>\n",
       "      <th>Score</th>\n",
       "    </tr>\n",
       "  </thead>\n",
       "  <tbody>\n",
       "    <tr>\n",
       "      <th>0</th>\n",
       "      <td>Switzerland</td>\n",
       "      <td>7.587</td>\n",
       "    </tr>\n",
       "    <tr>\n",
       "      <th>1</th>\n",
       "      <td>Iceland</td>\n",
       "      <td>7.561</td>\n",
       "    </tr>\n",
       "    <tr>\n",
       "      <th>2</th>\n",
       "      <td>Denmark</td>\n",
       "      <td>7.527</td>\n",
       "    </tr>\n",
       "    <tr>\n",
       "      <th>3</th>\n",
       "      <td>Norway</td>\n",
       "      <td>7.522</td>\n",
       "    </tr>\n",
       "    <tr>\n",
       "      <th>4</th>\n",
       "      <td>Canada</td>\n",
       "      <td>7.427</td>\n",
       "    </tr>\n",
       "    <tr>\n",
       "      <th>5</th>\n",
       "      <td>Finland</td>\n",
       "      <td>7.406</td>\n",
       "    </tr>\n",
       "    <tr>\n",
       "      <th>6</th>\n",
       "      <td>Netherlands</td>\n",
       "      <td>7.378</td>\n",
       "    </tr>\n",
       "    <tr>\n",
       "      <th>7</th>\n",
       "      <td>Sweden</td>\n",
       "      <td>7.364</td>\n",
       "    </tr>\n",
       "    <tr>\n",
       "      <th>8</th>\n",
       "      <td>New Zealand</td>\n",
       "      <td>7.286</td>\n",
       "    </tr>\n",
       "    <tr>\n",
       "      <th>9</th>\n",
       "      <td>Australia</td>\n",
       "      <td>7.284</td>\n",
       "    </tr>\n",
       "    <tr>\n",
       "      <th>10</th>\n",
       "      <td>Israel</td>\n",
       "      <td>7.278</td>\n",
       "    </tr>\n",
       "    <tr>\n",
       "      <th>11</th>\n",
       "      <td>Costa Rica</td>\n",
       "      <td>7.226</td>\n",
       "    </tr>\n",
       "    <tr>\n",
       "      <th>12</th>\n",
       "      <td>Austria</td>\n",
       "      <td>7.200</td>\n",
       "    </tr>\n",
       "    <tr>\n",
       "      <th>13</th>\n",
       "      <td>Mexico</td>\n",
       "      <td>7.187</td>\n",
       "    </tr>\n",
       "    <tr>\n",
       "      <th>14</th>\n",
       "      <td>United States</td>\n",
       "      <td>7.119</td>\n",
       "    </tr>\n",
       "    <tr>\n",
       "      <th>15</th>\n",
       "      <td>Brazil</td>\n",
       "      <td>6.983</td>\n",
       "    </tr>\n",
       "    <tr>\n",
       "      <th>16</th>\n",
       "      <td>Luxembourg</td>\n",
       "      <td>6.946</td>\n",
       "    </tr>\n",
       "    <tr>\n",
       "      <th>17</th>\n",
       "      <td>Ireland</td>\n",
       "      <td>6.940</td>\n",
       "    </tr>\n",
       "    <tr>\n",
       "      <th>18</th>\n",
       "      <td>Belgium</td>\n",
       "      <td>6.937</td>\n",
       "    </tr>\n",
       "    <tr>\n",
       "      <th>19</th>\n",
       "      <td>United Arab Emirates</td>\n",
       "      <td>6.901</td>\n",
       "    </tr>\n",
       "  </tbody>\n",
       "</table>\n",
       "</div>"
      ],
      "text/plain": [
       "                 Country  Score\n",
       "0            Switzerland  7.587\n",
       "1                Iceland  7.561\n",
       "2                Denmark  7.527\n",
       "3                 Norway  7.522\n",
       "4                 Canada  7.427\n",
       "5                Finland  7.406\n",
       "6            Netherlands  7.378\n",
       "7                 Sweden  7.364\n",
       "8            New Zealand  7.286\n",
       "9              Australia  7.284\n",
       "10                Israel  7.278\n",
       "11            Costa Rica  7.226\n",
       "12               Austria  7.200\n",
       "13                Mexico  7.187\n",
       "14         United States  7.119\n",
       "15                Brazil  6.983\n",
       "16            Luxembourg  6.946\n",
       "17               Ireland  6.940\n",
       "18               Belgium  6.937\n",
       "19  United Arab Emirates  6.901"
      ]
     },
     "execution_count": 15,
     "metadata": {},
     "output_type": "execute_result"
    }
   ],
   "source": [
    "df_list[0][['Country', 'Score']].head(20)"
   ]
  },
  {
   "cell_type": "code",
   "execution_count": 16,
   "metadata": {},
   "outputs": [],
   "source": [
    "for i in range(2,len(df_list)):\n",
    "    dftemp = df_list[i]\n",
    "    dftemp = dftemp.merge(df2015[['Country', 'Region']], on=\"Country\", how='left')\n",
    "    df_list[i] = dftemp"
   ]
  },
  {
   "cell_type": "code",
   "execution_count": 17,
   "metadata": {},
   "outputs": [],
   "source": [
    "for i in range(len(df_list)):\n",
    "    dftemp = df_list[i]\n",
    "    dftemp['Year'] = years[i]\n",
    "    df_list[i] = dftemp\n",
    "dfCombo = pd.concat(df_list, ignore_index=True)"
   ]
  },
  {
   "cell_type": "code",
   "execution_count": 18,
   "metadata": {},
   "outputs": [],
   "source": [
    "dfCombo.to_csv('whs_years.csv', index=False)"
   ]
  },
  {
   "cell_type": "code",
   "execution_count": 19,
   "metadata": {},
   "outputs": [],
   "source": [
    "finland = []\n",
    "us = []\n",
    "for i in range(len(df_list)):\n",
    "    finland.append(df_list[i].loc[df_list[i]['Country'] == 'Finland', 'Score'].iloc[0])\n",
    "    us.append(df_list[i].loc[df_list[i]['Country'] == 'United States', 'Score'].iloc[0])"
   ]
  },
  {
   "cell_type": "code",
   "execution_count": 20,
   "metadata": {},
   "outputs": [
    {
     "data": {
      "image/png": "[encoded data removed]",
      "text/plain": [
       "<Figure size 640x480 with 1 Axes>"
      ]
     },
     "metadata": {},
     "output_type": "display_data"
    }
   ],
   "source": [
    "plt.figure()\n",
    "plt.plot(years, finland)\n",
    "plt.plot(years, us)\n",
    "plt.show()"
   ]
  },
  {
   "cell_type": "code",
   "execution_count": null,
   "metadata": {},
   "outputs": [],
   "source": []
  },
  {
   "cell_type": "code",
   "execution_count": null,
   "metadata": {},
   "outputs": [],
   "source": []
  },
  {
   "cell_type": "code",
   "execution_count": null,
   "metadata": {},
   "outputs": [],
   "source": []
  },
  {
   "cell_type": "code",
   "execution_count": null,
   "metadata": {},
   "outputs": [],
   "source": []
  }
 ],
 "metadata": {
  "kernelspec": {
   "display_name": "base",
   "language": "python",
   "name": "python3"
  },
  "language_info": {
   "codemirror_mode": {
    "name": "ipython",
    "version": 3
   },
   "file_extension": ".py",
   "mimetype": "text/x-python",
   "name": "python",
   "nbconvert_exporter": "python",
   "pygments_lexer": "ipython3",
   "version": "3.9.12"
  }
 },
 "nbformat": 4,
 "nbformat_minor": 2
}
