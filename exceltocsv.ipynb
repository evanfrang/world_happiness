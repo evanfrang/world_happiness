{
 "cells": [
  {
   "cell_type": "code",
   "execution_count": 1,
   "metadata": {},
   "outputs": [],
   "source": [
    "import pandas as pd"
   ]
  },
  {
   "cell_type": "code",
   "execution_count": 2,
   "metadata": {},
   "outputs": [],
   "source": [
    "def excel_to_csv(excel_filepath, csv_filepath, sheet_name=0):\n",
    "    try:\n",
    "        df = pd.read_excel(excel_filepath, sheet_name=sheet_name)\n",
    "        df.to_csv(csv_filepath, index=False, encoding='utf-8')\n",
    "        print(f\"File '{excel_filepath}' successfully converted to '{csv_filepath}'\")\n",
    "    except FileNotFoundError:\n",
    "        print(f\"Error: File '{excel_filepath}' not found.\")\n",
    "    except Exception as e:\n",
    "         print(f\"An error occurred: {e}\")"
   ]
  },
  {
   "cell_type": "code",
   "execution_count": null,
   "metadata": {},
   "outputs": [
    {
     "name": "stdout",
     "output_type": "stream",
     "text": [
      "File 'DataForFigure2.1+with+sub+bars+2024.xls' successfully converted to '2024.csv'\n"
     ]
    }
   ],
   "source": [
    "#2024\n",
    "excel_file = 'DataForFigure2.1+with+sub+bars+2024.xls'\n",
    "csv_file = '2024.csv'\n",
    "excel_to_csv(excel_file, csv_file)"
   ]
  },
  {
   "cell_type": "code",
   "execution_count": 7,
   "metadata": {},
   "outputs": [
    {
     "name": "stdout",
     "output_type": "stream",
     "text": [
      "File 'DataForFigure2.1WHR2023.xls' successfully converted to '2023.csv'\n"
     ]
    }
   ],
   "source": [
    "#2023\n",
    "excel_file = 'DataForFigure2.1WHR2023.xls'\n",
    "csv_file = '2023.csv'\n",
    "excel_to_csv(excel_file, csv_file)"
   ]
  },
  {
   "cell_type": "code",
   "execution_count": 8,
   "metadata": {},
   "outputs": [
    {
     "name": "stdout",
     "output_type": "stream",
     "text": [
      "File 'Appendix_2_Data_for_Figure_2.1.xls' successfully converted to '2022.csv'\n"
     ]
    }
   ],
   "source": [
    "#2022\n",
    "excel_file = 'Appendix_2_Data_for_Figure_2.1.xls'\n",
    "csv_file = '2022.csv'\n",
    "excel_to_csv(excel_file, csv_file)"
   ]
  },
  {
   "cell_type": "code",
   "execution_count": null,
   "metadata": {},
   "outputs": [],
   "source": []
  }
 ],
 "metadata": {
  "kernelspec": {
   "display_name": "base",
   "language": "python",
   "name": "python3"
  },
  "language_info": {
   "codemirror_mode": {
    "name": "ipython",
    "version": 3
   },
   "file_extension": ".py",
   "mimetype": "text/x-python",
   "name": "python",
   "nbconvert_exporter": "python",
   "pygments_lexer": "ipython3",
   "version": "3.9.12"
  }
 },
 "nbformat": 4,
 "nbformat_minor": 2
}
